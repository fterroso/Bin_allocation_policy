{
 "cells": [
  {
   "cell_type": "code",
   "execution_count": 1,
   "metadata": {},
   "outputs": [],
   "source": [
    "import pandas as pd\n",
    "import os"
   ]
  },
  {
   "cell_type": "code",
   "execution_count": 2,
   "metadata": {},
   "outputs": [],
   "source": [
    "land_use_numerization= {'amenity/restaurants':1,\n",
    "                        'Amenities/ restaurants':1,\n",
    "                        'building/schools':2,\n",
    "                        'amenity/hospitals':3,\n",
    "                        'amenity/place of worship':4,\n",
    "                        'leisure/parks':5,\n",
    "                        'leisure-parks':5,\n",
    "                        'shop/supermarkets':6,\n",
    "                        'shop/convenience':6,\n",
    "                        'amenity/fuel':8}"
   ]
  },
  {
   "cell_type": "markdown",
   "metadata": {},
   "source": [
    "# 1. Train the model"
   ]
  },
  {
   "cell_type": "markdown",
   "metadata": {},
   "source": [
    "## 1.1 Read reference cities csv file"
   ]
  },
  {
   "cell_type": "code",
   "execution_count": 3,
   "metadata": {},
   "outputs": [],
   "source": [
    "reference_df = pd.read_csv(os.path.join('data', 'ReferenceCities.csv'), encoding='iso-8859-1')"
   ]
  },
  {
   "cell_type": "code",
   "execution_count": 4,
   "metadata": {},
   "outputs": [
    {
     "name": "stdout",
     "output_type": "stream",
     "text": [
      "<class 'pandas.core.frame.DataFrame'>\n",
      "RangeIndex: 33 entries, 0 to 32\n",
      "Data columns (total 8 columns):\n",
      " #   Column                     Non-Null Count  Dtype  \n",
      "---  ------                     --------------  -----  \n",
      " 0   Neighbourhoods             33 non-null     object \n",
      " 1   Population                 33 non-null     int64  \n",
      " 2   Area (km2)                 32 non-null     float64\n",
      " 3   Population Density         32 non-null     float64\n",
      " 4   Average distance of binsÿ  33 non-null     float64\n",
      " 5   Predominant land use       33 non-null     object \n",
      " 6   Num. of street segments    33 non-null     int64  \n",
      " 7   Number of bins             33 non-null     int64  \n",
      "dtypes: float64(3), int64(3), object(2)\n",
      "memory usage: 2.2+ KB\n"
     ]
    }
   ],
   "source": [
    "reference_df.info()"
   ]
  },
  {
   "cell_type": "code",
   "execution_count": 5,
   "metadata": {},
   "outputs": [
    {
     "data": {
      "text/plain": [
       "array(['amenity/restaurants', 'leisure/parks', 'Amenities/ restaurants',\n",
       "       'leisure-parks', 'building/schools', 'shop/supermarkets'],\n",
       "      dtype=object)"
      ]
     },
     "execution_count": 5,
     "metadata": {},
     "output_type": "execute_result"
    }
   ],
   "source": [
    "reference_df['Predominant land use'].unique()"
   ]
  },
  {
   "cell_type": "code",
   "execution_count": 6,
   "metadata": {},
   "outputs": [],
   "source": [
    "reference_df['Predominant land use_num']= reference_df['Predominant land use'].map(land_use_numerization)"
   ]
  },
  {
   "cell_type": "code",
   "execution_count": 7,
   "metadata": {},
   "outputs": [],
   "source": [
    "reference_df = reference_df.fillna(0)"
   ]
  },
  {
   "cell_type": "code",
   "execution_count": 8,
   "metadata": {
    "scrolled": true
   },
   "outputs": [
    {
     "data": {
      "text/html": [
       "<div>\n",
       "<style scoped>\n",
       "    .dataframe tbody tr th:only-of-type {\n",
       "        vertical-align: middle;\n",
       "    }\n",
       "\n",
       "    .dataframe tbody tr th {\n",
       "        vertical-align: top;\n",
       "    }\n",
       "\n",
       "    .dataframe thead th {\n",
       "        text-align: right;\n",
       "    }\n",
       "</style>\n",
       "<table border=\"1\" class=\"dataframe\">\n",
       "  <thead>\n",
       "    <tr style=\"text-align: right;\">\n",
       "      <th></th>\n",
       "      <th>Neighbourhoods</th>\n",
       "      <th>Population</th>\n",
       "      <th>Area (km2)</th>\n",
       "      <th>Population Density</th>\n",
       "      <th>Average distance of binsÿ</th>\n",
       "      <th>Predominant land use</th>\n",
       "      <th>Num. of street segments</th>\n",
       "      <th>Number of bins</th>\n",
       "      <th>Predominant land use_num</th>\n",
       "    </tr>\n",
       "  </thead>\n",
       "  <tbody>\n",
       "    <tr>\n",
       "      <th>0</th>\n",
       "      <td>Bronx</td>\n",
       "      <td>2717758</td>\n",
       "      <td>110.00</td>\n",
       "      <td>24707.00</td>\n",
       "      <td>4.78</td>\n",
       "      <td>amenity/restaurants</td>\n",
       "      <td>17338</td>\n",
       "      <td>108</td>\n",
       "      <td>1</td>\n",
       "    </tr>\n",
       "    <tr>\n",
       "      <th>1</th>\n",
       "      <td>Manhattan</td>\n",
       "      <td>3123068</td>\n",
       "      <td>59.10</td>\n",
       "      <td>52844.00</td>\n",
       "      <td>5.82</td>\n",
       "      <td>amenity/restaurants</td>\n",
       "      <td>9702</td>\n",
       "      <td>184</td>\n",
       "      <td>1</td>\n",
       "    </tr>\n",
       "    <tr>\n",
       "      <th>2</th>\n",
       "      <td>Queens</td>\n",
       "      <td>4460101</td>\n",
       "      <td>280.00</td>\n",
       "      <td>15929.00</td>\n",
       "      <td>8.63</td>\n",
       "      <td>amenity/restaurants</td>\n",
       "      <td>55192</td>\n",
       "      <td>117</td>\n",
       "      <td>1</td>\n",
       "    </tr>\n",
       "    <tr>\n",
       "      <th>3</th>\n",
       "      <td>Brooklyn</td>\n",
       "      <td>4970026</td>\n",
       "      <td>180.00</td>\n",
       "      <td>27611.00</td>\n",
       "      <td>6.35</td>\n",
       "      <td>leisure/parks</td>\n",
       "      <td>22709</td>\n",
       "      <td>94</td>\n",
       "      <td>5</td>\n",
       "    </tr>\n",
       "    <tr>\n",
       "      <th>4</th>\n",
       "      <td>Staten Island</td>\n",
       "      <td>912458</td>\n",
       "      <td>152.00</td>\n",
       "      <td>6003.00</td>\n",
       "      <td>6.71</td>\n",
       "      <td>leisure/parks</td>\n",
       "      <td>16060</td>\n",
       "      <td>42</td>\n",
       "      <td>5</td>\n",
       "    </tr>\n",
       "    <tr>\n",
       "      <th>5</th>\n",
       "      <td>Salamanca</td>\n",
       "      <td>145344</td>\n",
       "      <td>5.41</td>\n",
       "      <td>26865.00</td>\n",
       "      <td>1.22</td>\n",
       "      <td>Amenities/ restaurants</td>\n",
       "      <td>2050</td>\n",
       "      <td>736</td>\n",
       "      <td>1</td>\n",
       "    </tr>\n",
       "    <tr>\n",
       "      <th>6</th>\n",
       "      <td>Chamartin</td>\n",
       "      <td>141527</td>\n",
       "      <td>9.19</td>\n",
       "      <td>15400.00</td>\n",
       "      <td>1.83</td>\n",
       "      <td>Amenities/ restaurants</td>\n",
       "      <td>2935</td>\n",
       "      <td>1095</td>\n",
       "      <td>1</td>\n",
       "    </tr>\n",
       "    <tr>\n",
       "      <th>7</th>\n",
       "      <td>Moratalaz</td>\n",
       "      <td>92958</td>\n",
       "      <td>6.34</td>\n",
       "      <td>14662.00</td>\n",
       "      <td>1.08</td>\n",
       "      <td>leisure-parks</td>\n",
       "      <td>1728</td>\n",
       "      <td>1933</td>\n",
       "      <td>5</td>\n",
       "    </tr>\n",
       "    <tr>\n",
       "      <th>8</th>\n",
       "      <td>Ciudad-Lineal</td>\n",
       "      <td>212565</td>\n",
       "      <td>11.36</td>\n",
       "      <td>18711.00</td>\n",
       "      <td>2.02</td>\n",
       "      <td>Amenities/ restaurants</td>\n",
       "      <td>4201</td>\n",
       "      <td>2258</td>\n",
       "      <td>1</td>\n",
       "    </tr>\n",
       "    <tr>\n",
       "      <th>9</th>\n",
       "      <td>Hortaleza</td>\n",
       "      <td>185738</td>\n",
       "      <td>28.00</td>\n",
       "      <td>6633.00</td>\n",
       "      <td>1.90</td>\n",
       "      <td>leisure/parks</td>\n",
       "      <td>7294</td>\n",
       "      <td>2838</td>\n",
       "      <td>5</td>\n",
       "    </tr>\n",
       "    <tr>\n",
       "      <th>10</th>\n",
       "      <td>Vicalvaro</td>\n",
       "      <td>72213</td>\n",
       "      <td>32.70</td>\n",
       "      <td>2208.00</td>\n",
       "      <td>1.32</td>\n",
       "      <td>leisure/parks</td>\n",
       "      <td>3498</td>\n",
       "      <td>1547</td>\n",
       "      <td>5</td>\n",
       "    </tr>\n",
       "    <tr>\n",
       "      <th>11</th>\n",
       "      <td>San Blas-Canillejas</td>\n",
       "      <td>155825</td>\n",
       "      <td>21.81</td>\n",
       "      <td>7144.00</td>\n",
       "      <td>2.12</td>\n",
       "      <td>leisure/parks</td>\n",
       "      <td>4545</td>\n",
       "      <td>2218</td>\n",
       "      <td>5</td>\n",
       "    </tr>\n",
       "    <tr>\n",
       "      <th>12</th>\n",
       "      <td>Barajas</td>\n",
       "      <td>48315</td>\n",
       "      <td>42.66</td>\n",
       "      <td>1132.00</td>\n",
       "      <td>1.21</td>\n",
       "      <td>Amenities/ restaurants</td>\n",
       "      <td>4478</td>\n",
       "      <td>1003</td>\n",
       "      <td>1</td>\n",
       "    </tr>\n",
       "    <tr>\n",
       "      <th>13</th>\n",
       "      <td>Retiro</td>\n",
       "      <td>118252</td>\n",
       "      <td>5.37</td>\n",
       "      <td>22020.00</td>\n",
       "      <td>1.13</td>\n",
       "      <td>Amenities/ restaurants</td>\n",
       "      <td>2493</td>\n",
       "      <td>495</td>\n",
       "      <td>1</td>\n",
       "    </tr>\n",
       "    <tr>\n",
       "      <th>14</th>\n",
       "      <td>Centro</td>\n",
       "      <td>84988</td>\n",
       "      <td>5.87</td>\n",
       "      <td>14478.00</td>\n",
       "      <td>0.36</td>\n",
       "      <td>amenity/restaurants</td>\n",
       "      <td>3502</td>\n",
       "      <td>20</td>\n",
       "      <td>1</td>\n",
       "    </tr>\n",
       "    <tr>\n",
       "      <th>15</th>\n",
       "      <td>Este</td>\n",
       "      <td>67289</td>\n",
       "      <td>126.63</td>\n",
       "      <td>531.00</td>\n",
       "      <td>3.42</td>\n",
       "      <td>amenity/restaurants</td>\n",
       "      <td>2860</td>\n",
       "      <td>285</td>\n",
       "      <td>1</td>\n",
       "    </tr>\n",
       "    <tr>\n",
       "      <th>16</th>\n",
       "      <td>Ciudad Jardin</td>\n",
       "      <td>37769</td>\n",
       "      <td>76.21</td>\n",
       "      <td>495.00</td>\n",
       "      <td>0.07</td>\n",
       "      <td>building/schools</td>\n",
       "      <td>2693</td>\n",
       "      <td>2</td>\n",
       "      <td>2</td>\n",
       "    </tr>\n",
       "    <tr>\n",
       "      <th>17</th>\n",
       "      <td>Bailen-Miraflores</td>\n",
       "      <td>62834</td>\n",
       "      <td>6.39</td>\n",
       "      <td>9066.00</td>\n",
       "      <td>0.51</td>\n",
       "      <td>building/schools</td>\n",
       "      <td>1429</td>\n",
       "      <td>31</td>\n",
       "      <td>2</td>\n",
       "    </tr>\n",
       "    <tr>\n",
       "      <th>18</th>\n",
       "      <td>Palma-Palmilla</td>\n",
       "      <td>29862</td>\n",
       "      <td>25.37</td>\n",
       "      <td>1177.00</td>\n",
       "      <td>0.33</td>\n",
       "      <td>building/schools</td>\n",
       "      <td>967</td>\n",
       "      <td>6</td>\n",
       "      <td>2</td>\n",
       "    </tr>\n",
       "    <tr>\n",
       "      <th>19</th>\n",
       "      <td>Cruz de Humilladero</td>\n",
       "      <td>93955</td>\n",
       "      <td>9.91</td>\n",
       "      <td>9480.00</td>\n",
       "      <td>1.81</td>\n",
       "      <td>building/schools</td>\n",
       "      <td>3383</td>\n",
       "      <td>142</td>\n",
       "      <td>2</td>\n",
       "    </tr>\n",
       "    <tr>\n",
       "      <th>20</th>\n",
       "      <td>Carretera de Cadiz</td>\n",
       "      <td>113424</td>\n",
       "      <td>5.60</td>\n",
       "      <td>20254.00</td>\n",
       "      <td>2.62</td>\n",
       "      <td>building/schools</td>\n",
       "      <td>3743</td>\n",
       "      <td>265</td>\n",
       "      <td>2</td>\n",
       "    </tr>\n",
       "    <tr>\n",
       "      <th>21</th>\n",
       "      <td>Churriana</td>\n",
       "      <td>20449</td>\n",
       "      <td>37.32</td>\n",
       "      <td>547.00</td>\n",
       "      <td>3.97</td>\n",
       "      <td>leisure/parks</td>\n",
       "      <td>3223</td>\n",
       "      <td>409</td>\n",
       "      <td>5</td>\n",
       "    </tr>\n",
       "    <tr>\n",
       "      <th>22</th>\n",
       "      <td>Campanillas</td>\n",
       "      <td>17472</td>\n",
       "      <td>59.77</td>\n",
       "      <td>292.00</td>\n",
       "      <td>1.03</td>\n",
       "      <td>building/schools</td>\n",
       "      <td>1335</td>\n",
       "      <td>202</td>\n",
       "      <td>2</td>\n",
       "    </tr>\n",
       "    <tr>\n",
       "      <th>23</th>\n",
       "      <td>Puerto de la Torre</td>\n",
       "      <td>49442</td>\n",
       "      <td>42.26</td>\n",
       "      <td>1169.00</td>\n",
       "      <td>1.14</td>\n",
       "      <td>building/schools</td>\n",
       "      <td>1556</td>\n",
       "      <td>233</td>\n",
       "      <td>2</td>\n",
       "    </tr>\n",
       "    <tr>\n",
       "      <th>24</th>\n",
       "      <td>Teatinos-Universidad</td>\n",
       "      <td>34405</td>\n",
       "      <td>0.00</td>\n",
       "      <td>0.00</td>\n",
       "      <td>2.43</td>\n",
       "      <td>leisure/parks</td>\n",
       "      <td>2191</td>\n",
       "      <td>100</td>\n",
       "      <td>5</td>\n",
       "    </tr>\n",
       "    <tr>\n",
       "      <th>25</th>\n",
       "      <td>Madla</td>\n",
       "      <td>21236</td>\n",
       "      <td>13.87</td>\n",
       "      <td>1530.90</td>\n",
       "      <td>2.35</td>\n",
       "      <td>building/schools</td>\n",
       "      <td>2118</td>\n",
       "      <td>136</td>\n",
       "      <td>2</td>\n",
       "    </tr>\n",
       "    <tr>\n",
       "      <th>26</th>\n",
       "      <td>Hundvg</td>\n",
       "      <td>13217</td>\n",
       "      <td>6.41</td>\n",
       "      <td>2061.90</td>\n",
       "      <td>1.40</td>\n",
       "      <td>building/schools</td>\n",
       "      <td>2026</td>\n",
       "      <td>74</td>\n",
       "      <td>2</td>\n",
       "    </tr>\n",
       "    <tr>\n",
       "      <th>27</th>\n",
       "      <td>Hillevg</td>\n",
       "      <td>19681</td>\n",
       "      <td>8.08</td>\n",
       "      <td>2435.70</td>\n",
       "      <td>1.45</td>\n",
       "      <td>leisure/parks</td>\n",
       "      <td>3892</td>\n",
       "      <td>212</td>\n",
       "      <td>5</td>\n",
       "    </tr>\n",
       "    <tr>\n",
       "      <th>28</th>\n",
       "      <td>Storhaug</td>\n",
       "      <td>16544</td>\n",
       "      <td>6.43</td>\n",
       "      <td>2571.90</td>\n",
       "      <td>0.86</td>\n",
       "      <td>amenity/restaurants</td>\n",
       "      <td>1793</td>\n",
       "      <td>188</td>\n",
       "      <td>1</td>\n",
       "    </tr>\n",
       "    <tr>\n",
       "      <th>29</th>\n",
       "      <td>Hinna</td>\n",
       "      <td>22581</td>\n",
       "      <td>15.00</td>\n",
       "      <td>1505.40</td>\n",
       "      <td>1.65</td>\n",
       "      <td>building/schools</td>\n",
       "      <td>777</td>\n",
       "      <td>187</td>\n",
       "      <td>2</td>\n",
       "    </tr>\n",
       "    <tr>\n",
       "      <th>30</th>\n",
       "      <td>Eiganes og Vland</td>\n",
       "      <td>23616</td>\n",
       "      <td>7.01</td>\n",
       "      <td>3368.90</td>\n",
       "      <td>1.39</td>\n",
       "      <td>leisure/parks</td>\n",
       "      <td>3443</td>\n",
       "      <td>181</td>\n",
       "      <td>5</td>\n",
       "    </tr>\n",
       "    <tr>\n",
       "      <th>31</th>\n",
       "      <td>Tasta</td>\n",
       "      <td>15319</td>\n",
       "      <td>10.87</td>\n",
       "      <td>1409.20</td>\n",
       "      <td>0.74</td>\n",
       "      <td>shop/supermarkets</td>\n",
       "      <td>1943</td>\n",
       "      <td>98</td>\n",
       "      <td>6</td>\n",
       "    </tr>\n",
       "    <tr>\n",
       "      <th>32</th>\n",
       "      <td>Rennes?y</td>\n",
       "      <td>4755</td>\n",
       "      <td>65.51</td>\n",
       "      <td>72.58</td>\n",
       "      <td>3.12</td>\n",
       "      <td>amenity/restaurants</td>\n",
       "      <td>38</td>\n",
       "      <td>27</td>\n",
       "      <td>1</td>\n",
       "    </tr>\n",
       "  </tbody>\n",
       "</table>\n",
       "</div>"
      ],
      "text/plain": [
       "          Neighbourhoods  Population  Area (km2)  Population Density  \\\n",
       "0                  Bronx     2717758      110.00            24707.00   \n",
       "1              Manhattan     3123068       59.10            52844.00   \n",
       "2                 Queens     4460101      280.00            15929.00   \n",
       "3               Brooklyn     4970026      180.00            27611.00   \n",
       "4          Staten Island      912458      152.00             6003.00   \n",
       "5              Salamanca      145344        5.41            26865.00   \n",
       "6              Chamartin      141527        9.19            15400.00   \n",
       "7              Moratalaz       92958        6.34            14662.00   \n",
       "8          Ciudad-Lineal      212565       11.36            18711.00   \n",
       "9              Hortaleza      185738       28.00             6633.00   \n",
       "10             Vicalvaro       72213       32.70             2208.00   \n",
       "11   San Blas-Canillejas      155825       21.81             7144.00   \n",
       "12               Barajas       48315       42.66             1132.00   \n",
       "13                Retiro      118252        5.37            22020.00   \n",
       "14                Centro       84988        5.87            14478.00   \n",
       "15                  Este       67289      126.63              531.00   \n",
       "16         Ciudad Jardin       37769       76.21              495.00   \n",
       "17     Bailen-Miraflores       62834        6.39             9066.00   \n",
       "18        Palma-Palmilla       29862       25.37             1177.00   \n",
       "19   Cruz de Humilladero       93955        9.91             9480.00   \n",
       "20    Carretera de Cadiz      113424        5.60            20254.00   \n",
       "21             Churriana       20449       37.32              547.00   \n",
       "22           Campanillas       17472       59.77              292.00   \n",
       "23    Puerto de la Torre       49442       42.26             1169.00   \n",
       "24  Teatinos-Universidad       34405        0.00                0.00   \n",
       "25                 Madla       21236       13.87             1530.90   \n",
       "26               Hundvg       13217        6.41             2061.90   \n",
       "27              Hillevg       19681        8.08             2435.70   \n",
       "28              Storhaug       16544        6.43             2571.90   \n",
       "29                 Hinna       22581       15.00             1505.40   \n",
       "30     Eiganes og Vland       23616        7.01             3368.90   \n",
       "31                 Tasta       15319       10.87             1409.20   \n",
       "32              Rennes?y        4755       65.51               72.58   \n",
       "\n",
       "    Average distance of binsÿ    Predominant land use  \\\n",
       "0                        4.78     amenity/restaurants   \n",
       "1                        5.82     amenity/restaurants   \n",
       "2                        8.63     amenity/restaurants   \n",
       "3                        6.35           leisure/parks   \n",
       "4                        6.71           leisure/parks   \n",
       "5                        1.22  Amenities/ restaurants   \n",
       "6                        1.83  Amenities/ restaurants   \n",
       "7                        1.08           leisure-parks   \n",
       "8                        2.02  Amenities/ restaurants   \n",
       "9                        1.90           leisure/parks   \n",
       "10                       1.32           leisure/parks   \n",
       "11                       2.12           leisure/parks   \n",
       "12                       1.21  Amenities/ restaurants   \n",
       "13                       1.13  Amenities/ restaurants   \n",
       "14                       0.36     amenity/restaurants   \n",
       "15                       3.42     amenity/restaurants   \n",
       "16                       0.07        building/schools   \n",
       "17                       0.51        building/schools   \n",
       "18                       0.33        building/schools   \n",
       "19                       1.81        building/schools   \n",
       "20                       2.62        building/schools   \n",
       "21                       3.97           leisure/parks   \n",
       "22                       1.03        building/schools   \n",
       "23                       1.14        building/schools   \n",
       "24                       2.43           leisure/parks   \n",
       "25                       2.35        building/schools   \n",
       "26                       1.40        building/schools   \n",
       "27                       1.45           leisure/parks   \n",
       "28                       0.86     amenity/restaurants   \n",
       "29                       1.65        building/schools   \n",
       "30                       1.39           leisure/parks   \n",
       "31                       0.74       shop/supermarkets   \n",
       "32                       3.12     amenity/restaurants   \n",
       "\n",
       "    Num. of street segments  Number of bins  Predominant land use_num  \n",
       "0                     17338             108                         1  \n",
       "1                      9702             184                         1  \n",
       "2                     55192             117                         1  \n",
       "3                     22709              94                         5  \n",
       "4                     16060              42                         5  \n",
       "5                      2050             736                         1  \n",
       "6                      2935            1095                         1  \n",
       "7                      1728            1933                         5  \n",
       "8                      4201            2258                         1  \n",
       "9                      7294            2838                         5  \n",
       "10                     3498            1547                         5  \n",
       "11                     4545            2218                         5  \n",
       "12                     4478            1003                         1  \n",
       "13                     2493             495                         1  \n",
       "14                     3502              20                         1  \n",
       "15                     2860             285                         1  \n",
       "16                     2693               2                         2  \n",
       "17                     1429              31                         2  \n",
       "18                      967               6                         2  \n",
       "19                     3383             142                         2  \n",
       "20                     3743             265                         2  \n",
       "21                     3223             409                         5  \n",
       "22                     1335             202                         2  \n",
       "23                     1556             233                         2  \n",
       "24                     2191             100                         5  \n",
       "25                     2118             136                         2  \n",
       "26                     2026              74                         2  \n",
       "27                     3892             212                         5  \n",
       "28                     1793             188                         1  \n",
       "29                      777             187                         2  \n",
       "30                     3443             181                         5  \n",
       "31                     1943              98                         6  \n",
       "32                       38              27                         1  "
      ]
     },
     "execution_count": 8,
     "metadata": {},
     "output_type": "execute_result"
    }
   ],
   "source": [
    "reference_df"
   ]
  },
  {
   "cell_type": "markdown",
   "metadata": {},
   "source": [
    "## 1.2 Split data in test train "
   ]
  },
  {
   "cell_type": "code",
   "execution_count": 9,
   "metadata": {},
   "outputs": [],
   "source": [
    "X = reference_df.drop(columns=['Neighbourhoods', 'Number of bins', 'Predominant land use', 'Average distance of binsÿ'])\n",
    "y= reference_df['Number of bins']"
   ]
  },
  {
   "cell_type": "code",
   "execution_count": 10,
   "metadata": {
    "scrolled": true
   },
   "outputs": [
    {
     "data": {
      "text/html": [
       "<div>\n",
       "<style scoped>\n",
       "    .dataframe tbody tr th:only-of-type {\n",
       "        vertical-align: middle;\n",
       "    }\n",
       "\n",
       "    .dataframe tbody tr th {\n",
       "        vertical-align: top;\n",
       "    }\n",
       "\n",
       "    .dataframe thead th {\n",
       "        text-align: right;\n",
       "    }\n",
       "</style>\n",
       "<table border=\"1\" class=\"dataframe\">\n",
       "  <thead>\n",
       "    <tr style=\"text-align: right;\">\n",
       "      <th></th>\n",
       "      <th>Population</th>\n",
       "      <th>Area (km2)</th>\n",
       "      <th>Population Density</th>\n",
       "      <th>Num. of street segments</th>\n",
       "      <th>Predominant land use_num</th>\n",
       "    </tr>\n",
       "  </thead>\n",
       "  <tbody>\n",
       "    <tr>\n",
       "      <th>0</th>\n",
       "      <td>2717758</td>\n",
       "      <td>110.00</td>\n",
       "      <td>24707.00</td>\n",
       "      <td>17338</td>\n",
       "      <td>1</td>\n",
       "    </tr>\n",
       "    <tr>\n",
       "      <th>1</th>\n",
       "      <td>3123068</td>\n",
       "      <td>59.10</td>\n",
       "      <td>52844.00</td>\n",
       "      <td>9702</td>\n",
       "      <td>1</td>\n",
       "    </tr>\n",
       "    <tr>\n",
       "      <th>2</th>\n",
       "      <td>4460101</td>\n",
       "      <td>280.00</td>\n",
       "      <td>15929.00</td>\n",
       "      <td>55192</td>\n",
       "      <td>1</td>\n",
       "    </tr>\n",
       "    <tr>\n",
       "      <th>3</th>\n",
       "      <td>4970026</td>\n",
       "      <td>180.00</td>\n",
       "      <td>27611.00</td>\n",
       "      <td>22709</td>\n",
       "      <td>5</td>\n",
       "    </tr>\n",
       "    <tr>\n",
       "      <th>4</th>\n",
       "      <td>912458</td>\n",
       "      <td>152.00</td>\n",
       "      <td>6003.00</td>\n",
       "      <td>16060</td>\n",
       "      <td>5</td>\n",
       "    </tr>\n",
       "    <tr>\n",
       "      <th>5</th>\n",
       "      <td>145344</td>\n",
       "      <td>5.41</td>\n",
       "      <td>26865.00</td>\n",
       "      <td>2050</td>\n",
       "      <td>1</td>\n",
       "    </tr>\n",
       "    <tr>\n",
       "      <th>6</th>\n",
       "      <td>141527</td>\n",
       "      <td>9.19</td>\n",
       "      <td>15400.00</td>\n",
       "      <td>2935</td>\n",
       "      <td>1</td>\n",
       "    </tr>\n",
       "    <tr>\n",
       "      <th>7</th>\n",
       "      <td>92958</td>\n",
       "      <td>6.34</td>\n",
       "      <td>14662.00</td>\n",
       "      <td>1728</td>\n",
       "      <td>5</td>\n",
       "    </tr>\n",
       "    <tr>\n",
       "      <th>8</th>\n",
       "      <td>212565</td>\n",
       "      <td>11.36</td>\n",
       "      <td>18711.00</td>\n",
       "      <td>4201</td>\n",
       "      <td>1</td>\n",
       "    </tr>\n",
       "    <tr>\n",
       "      <th>9</th>\n",
       "      <td>185738</td>\n",
       "      <td>28.00</td>\n",
       "      <td>6633.00</td>\n",
       "      <td>7294</td>\n",
       "      <td>5</td>\n",
       "    </tr>\n",
       "    <tr>\n",
       "      <th>10</th>\n",
       "      <td>72213</td>\n",
       "      <td>32.70</td>\n",
       "      <td>2208.00</td>\n",
       "      <td>3498</td>\n",
       "      <td>5</td>\n",
       "    </tr>\n",
       "    <tr>\n",
       "      <th>11</th>\n",
       "      <td>155825</td>\n",
       "      <td>21.81</td>\n",
       "      <td>7144.00</td>\n",
       "      <td>4545</td>\n",
       "      <td>5</td>\n",
       "    </tr>\n",
       "    <tr>\n",
       "      <th>12</th>\n",
       "      <td>48315</td>\n",
       "      <td>42.66</td>\n",
       "      <td>1132.00</td>\n",
       "      <td>4478</td>\n",
       "      <td>1</td>\n",
       "    </tr>\n",
       "    <tr>\n",
       "      <th>13</th>\n",
       "      <td>118252</td>\n",
       "      <td>5.37</td>\n",
       "      <td>22020.00</td>\n",
       "      <td>2493</td>\n",
       "      <td>1</td>\n",
       "    </tr>\n",
       "    <tr>\n",
       "      <th>14</th>\n",
       "      <td>84988</td>\n",
       "      <td>5.87</td>\n",
       "      <td>14478.00</td>\n",
       "      <td>3502</td>\n",
       "      <td>1</td>\n",
       "    </tr>\n",
       "    <tr>\n",
       "      <th>15</th>\n",
       "      <td>67289</td>\n",
       "      <td>126.63</td>\n",
       "      <td>531.00</td>\n",
       "      <td>2860</td>\n",
       "      <td>1</td>\n",
       "    </tr>\n",
       "    <tr>\n",
       "      <th>16</th>\n",
       "      <td>37769</td>\n",
       "      <td>76.21</td>\n",
       "      <td>495.00</td>\n",
       "      <td>2693</td>\n",
       "      <td>2</td>\n",
       "    </tr>\n",
       "    <tr>\n",
       "      <th>17</th>\n",
       "      <td>62834</td>\n",
       "      <td>6.39</td>\n",
       "      <td>9066.00</td>\n",
       "      <td>1429</td>\n",
       "      <td>2</td>\n",
       "    </tr>\n",
       "    <tr>\n",
       "      <th>18</th>\n",
       "      <td>29862</td>\n",
       "      <td>25.37</td>\n",
       "      <td>1177.00</td>\n",
       "      <td>967</td>\n",
       "      <td>2</td>\n",
       "    </tr>\n",
       "    <tr>\n",
       "      <th>19</th>\n",
       "      <td>93955</td>\n",
       "      <td>9.91</td>\n",
       "      <td>9480.00</td>\n",
       "      <td>3383</td>\n",
       "      <td>2</td>\n",
       "    </tr>\n",
       "    <tr>\n",
       "      <th>20</th>\n",
       "      <td>113424</td>\n",
       "      <td>5.60</td>\n",
       "      <td>20254.00</td>\n",
       "      <td>3743</td>\n",
       "      <td>2</td>\n",
       "    </tr>\n",
       "    <tr>\n",
       "      <th>21</th>\n",
       "      <td>20449</td>\n",
       "      <td>37.32</td>\n",
       "      <td>547.00</td>\n",
       "      <td>3223</td>\n",
       "      <td>5</td>\n",
       "    </tr>\n",
       "    <tr>\n",
       "      <th>22</th>\n",
       "      <td>17472</td>\n",
       "      <td>59.77</td>\n",
       "      <td>292.00</td>\n",
       "      <td>1335</td>\n",
       "      <td>2</td>\n",
       "    </tr>\n",
       "    <tr>\n",
       "      <th>23</th>\n",
       "      <td>49442</td>\n",
       "      <td>42.26</td>\n",
       "      <td>1169.00</td>\n",
       "      <td>1556</td>\n",
       "      <td>2</td>\n",
       "    </tr>\n",
       "    <tr>\n",
       "      <th>24</th>\n",
       "      <td>34405</td>\n",
       "      <td>0.00</td>\n",
       "      <td>0.00</td>\n",
       "      <td>2191</td>\n",
       "      <td>5</td>\n",
       "    </tr>\n",
       "    <tr>\n",
       "      <th>25</th>\n",
       "      <td>21236</td>\n",
       "      <td>13.87</td>\n",
       "      <td>1530.90</td>\n",
       "      <td>2118</td>\n",
       "      <td>2</td>\n",
       "    </tr>\n",
       "    <tr>\n",
       "      <th>26</th>\n",
       "      <td>13217</td>\n",
       "      <td>6.41</td>\n",
       "      <td>2061.90</td>\n",
       "      <td>2026</td>\n",
       "      <td>2</td>\n",
       "    </tr>\n",
       "    <tr>\n",
       "      <th>27</th>\n",
       "      <td>19681</td>\n",
       "      <td>8.08</td>\n",
       "      <td>2435.70</td>\n",
       "      <td>3892</td>\n",
       "      <td>5</td>\n",
       "    </tr>\n",
       "    <tr>\n",
       "      <th>28</th>\n",
       "      <td>16544</td>\n",
       "      <td>6.43</td>\n",
       "      <td>2571.90</td>\n",
       "      <td>1793</td>\n",
       "      <td>1</td>\n",
       "    </tr>\n",
       "    <tr>\n",
       "      <th>29</th>\n",
       "      <td>22581</td>\n",
       "      <td>15.00</td>\n",
       "      <td>1505.40</td>\n",
       "      <td>777</td>\n",
       "      <td>2</td>\n",
       "    </tr>\n",
       "    <tr>\n",
       "      <th>30</th>\n",
       "      <td>23616</td>\n",
       "      <td>7.01</td>\n",
       "      <td>3368.90</td>\n",
       "      <td>3443</td>\n",
       "      <td>5</td>\n",
       "    </tr>\n",
       "    <tr>\n",
       "      <th>31</th>\n",
       "      <td>15319</td>\n",
       "      <td>10.87</td>\n",
       "      <td>1409.20</td>\n",
       "      <td>1943</td>\n",
       "      <td>6</td>\n",
       "    </tr>\n",
       "    <tr>\n",
       "      <th>32</th>\n",
       "      <td>4755</td>\n",
       "      <td>65.51</td>\n",
       "      <td>72.58</td>\n",
       "      <td>38</td>\n",
       "      <td>1</td>\n",
       "    </tr>\n",
       "  </tbody>\n",
       "</table>\n",
       "</div>"
      ],
      "text/plain": [
       "    Population  Area (km2)  Population Density  Num. of street segments  \\\n",
       "0      2717758      110.00            24707.00                    17338   \n",
       "1      3123068       59.10            52844.00                     9702   \n",
       "2      4460101      280.00            15929.00                    55192   \n",
       "3      4970026      180.00            27611.00                    22709   \n",
       "4       912458      152.00             6003.00                    16060   \n",
       "5       145344        5.41            26865.00                     2050   \n",
       "6       141527        9.19            15400.00                     2935   \n",
       "7        92958        6.34            14662.00                     1728   \n",
       "8       212565       11.36            18711.00                     4201   \n",
       "9       185738       28.00             6633.00                     7294   \n",
       "10       72213       32.70             2208.00                     3498   \n",
       "11      155825       21.81             7144.00                     4545   \n",
       "12       48315       42.66             1132.00                     4478   \n",
       "13      118252        5.37            22020.00                     2493   \n",
       "14       84988        5.87            14478.00                     3502   \n",
       "15       67289      126.63              531.00                     2860   \n",
       "16       37769       76.21              495.00                     2693   \n",
       "17       62834        6.39             9066.00                     1429   \n",
       "18       29862       25.37             1177.00                      967   \n",
       "19       93955        9.91             9480.00                     3383   \n",
       "20      113424        5.60            20254.00                     3743   \n",
       "21       20449       37.32              547.00                     3223   \n",
       "22       17472       59.77              292.00                     1335   \n",
       "23       49442       42.26             1169.00                     1556   \n",
       "24       34405        0.00                0.00                     2191   \n",
       "25       21236       13.87             1530.90                     2118   \n",
       "26       13217        6.41             2061.90                     2026   \n",
       "27       19681        8.08             2435.70                     3892   \n",
       "28       16544        6.43             2571.90                     1793   \n",
       "29       22581       15.00             1505.40                      777   \n",
       "30       23616        7.01             3368.90                     3443   \n",
       "31       15319       10.87             1409.20                     1943   \n",
       "32        4755       65.51               72.58                       38   \n",
       "\n",
       "    Predominant land use_num  \n",
       "0                          1  \n",
       "1                          1  \n",
       "2                          1  \n",
       "3                          5  \n",
       "4                          5  \n",
       "5                          1  \n",
       "6                          1  \n",
       "7                          5  \n",
       "8                          1  \n",
       "9                          5  \n",
       "10                         5  \n",
       "11                         5  \n",
       "12                         1  \n",
       "13                         1  \n",
       "14                         1  \n",
       "15                         1  \n",
       "16                         2  \n",
       "17                         2  \n",
       "18                         2  \n",
       "19                         2  \n",
       "20                         2  \n",
       "21                         5  \n",
       "22                         2  \n",
       "23                         2  \n",
       "24                         5  \n",
       "25                         2  \n",
       "26                         2  \n",
       "27                         5  \n",
       "28                         1  \n",
       "29                         2  \n",
       "30                         5  \n",
       "31                         6  \n",
       "32                         1  "
      ]
     },
     "execution_count": 10,
     "metadata": {},
     "output_type": "execute_result"
    }
   ],
   "source": [
    "X"
   ]
  },
  {
   "cell_type": "code",
   "execution_count": 11,
   "metadata": {},
   "outputs": [],
   "source": [
    "from sklearn.model_selection import train_test_split\n",
    "\n",
    "X_train, X_test, y_train, y_test = train_test_split(X, y, test_size=0.10, random_state=42)"
   ]
  },
  {
   "cell_type": "markdown",
   "metadata": {},
   "source": [
    "## 1.3 Generate SVM model"
   ]
  },
  {
   "cell_type": "code",
   "execution_count": 12,
   "metadata": {},
   "outputs": [],
   "source": [
    "from sklearn.svm import SVR"
   ]
  },
  {
   "cell_type": "code",
   "execution_count": 13,
   "metadata": {},
   "outputs": [],
   "source": [
    "svm_model_train_test = SVR()"
   ]
  },
  {
   "cell_type": "code",
   "execution_count": 14,
   "metadata": {},
   "outputs": [
    {
     "data": {
      "text/plain": [
       "SVR(C=1.0, cache_size=200, coef0=0.0, degree=3, epsilon=0.1, gamma='scale',\n",
       "    kernel='rbf', max_iter=-1, shrinking=True, tol=0.001, verbose=False)"
      ]
     },
     "execution_count": 14,
     "metadata": {},
     "output_type": "execute_result"
    }
   ],
   "source": [
    "svm_model_train_test.fit(X_train, y_train)"
   ]
  },
  {
   "cell_type": "code",
   "execution_count": 15,
   "metadata": {},
   "outputs": [],
   "source": [
    "y_pred= svm_model_train_test.predict(X_test)"
   ]
  },
  {
   "cell_type": "code",
   "execution_count": 16,
   "metadata": {},
   "outputs": [],
   "source": [
    "from sklearn.metrics import r2_score, mean_squared_error"
   ]
  },
  {
   "cell_type": "markdown",
   "metadata": {},
   "source": [
    "### 1.3.1 Train test error"
   ]
  },
  {
   "cell_type": "code",
   "execution_count": 17,
   "metadata": {},
   "outputs": [
    {
     "data": {
      "text/plain": [
       "-0.47291893497643733"
      ]
     },
     "execution_count": 17,
     "metadata": {},
     "output_type": "execute_result"
    }
   ],
   "source": [
    "r2_score(y_test,y_pred)"
   ]
  },
  {
   "cell_type": "code",
   "execution_count": 18,
   "metadata": {},
   "outputs": [
    {
     "data": {
      "text/plain": [
       "13893.307854165245"
      ]
     },
     "execution_count": 18,
     "metadata": {},
     "output_type": "execute_result"
    }
   ],
   "source": [
    "mean_squared_error(y_test,y_pred)"
   ]
  },
  {
   "cell_type": "markdown",
   "metadata": {},
   "source": [
    "## 1.4 Generate RF model"
   ]
  },
  {
   "cell_type": "code",
   "execution_count": 19,
   "metadata": {},
   "outputs": [],
   "source": [
    "from sklearn.ensemble import RandomForestRegressor"
   ]
  },
  {
   "cell_type": "code",
   "execution_count": 20,
   "metadata": {},
   "outputs": [
    {
     "data": {
      "text/plain": [
       "RandomForestRegressor(bootstrap=True, ccp_alpha=0.0, criterion='mse',\n",
       "                      max_depth=None, max_features='auto', max_leaf_nodes=None,\n",
       "                      max_samples=None, min_impurity_decrease=0.0,\n",
       "                      min_impurity_split=None, min_samples_leaf=1,\n",
       "                      min_samples_split=2, min_weight_fraction_leaf=0.0,\n",
       "                      n_estimators=100, n_jobs=None, oob_score=False,\n",
       "                      random_state=None, verbose=0, warm_start=False)"
      ]
     },
     "execution_count": 20,
     "metadata": {},
     "output_type": "execute_result"
    }
   ],
   "source": [
    "rf_model_train_test = RandomForestRegressor()\n",
    "\n",
    "rf_model_train_test.fit(X_train, y_train)"
   ]
  },
  {
   "cell_type": "code",
   "execution_count": 21,
   "metadata": {},
   "outputs": [],
   "source": [
    "y_pred= rf_model_train_test.predict(X_test)"
   ]
  },
  {
   "cell_type": "markdown",
   "metadata": {},
   "source": [
    "### 1.4.1 Train test error"
   ]
  },
  {
   "cell_type": "code",
   "execution_count": 22,
   "metadata": {},
   "outputs": [
    {
     "data": {
      "text/plain": [
       "-6.104041129075008"
      ]
     },
     "execution_count": 22,
     "metadata": {},
     "output_type": "execute_result"
    }
   ],
   "source": [
    "r2_score(y_test,y_pred)"
   ]
  },
  {
   "cell_type": "code",
   "execution_count": 23,
   "metadata": {},
   "outputs": [
    {
     "data": {
      "text/plain": [
       "67008.86795000001"
      ]
     },
     "execution_count": 23,
     "metadata": {},
     "output_type": "execute_result"
    }
   ],
   "source": [
    "mean_squared_error(y_test,y_pred)"
   ]
  },
  {
   "cell_type": "markdown",
   "metadata": {},
   "source": [
    "# 2. Test model in target cities"
   ]
  },
  {
   "cell_type": "markdown",
   "metadata": {},
   "source": [
    "## 2.1 Generate models with all reference cities data"
   ]
  },
  {
   "cell_type": "code",
   "execution_count": 24,
   "metadata": {},
   "outputs": [
    {
     "data": {
      "text/plain": [
       "SVR(C=1.0, cache_size=200, coef0=0.0, degree=3, epsilon=0.1, gamma='scale',\n",
       "    kernel='rbf', max_iter=-1, shrinking=True, tol=0.001, verbose=False)"
      ]
     },
     "execution_count": 24,
     "metadata": {},
     "output_type": "execute_result"
    }
   ],
   "source": [
    "svm_model_all = SVR()\n",
    "svm_model_all.fit(X, y)"
   ]
  },
  {
   "cell_type": "code",
   "execution_count": 25,
   "metadata": {},
   "outputs": [
    {
     "data": {
      "text/plain": [
       "RandomForestRegressor(bootstrap=True, ccp_alpha=0.0, criterion='mse',\n",
       "                      max_depth=None, max_features='auto', max_leaf_nodes=None,\n",
       "                      max_samples=None, min_impurity_decrease=0.0,\n",
       "                      min_impurity_split=None, min_samples_leaf=1,\n",
       "                      min_samples_split=2, min_weight_fraction_leaf=0.0,\n",
       "                      n_estimators=100, n_jobs=None, oob_score=False,\n",
       "                      random_state=None, verbose=0, warm_start=False)"
      ]
     },
     "execution_count": 25,
     "metadata": {},
     "output_type": "execute_result"
    }
   ],
   "source": [
    "rf_model_all = RandomForestRegressor()\n",
    "rf_model_all.fit(X, y)"
   ]
  },
  {
   "cell_type": "markdown",
   "metadata": {},
   "source": [
    "## 2.2 Quezon city"
   ]
  },
  {
   "cell_type": "markdown",
   "metadata": {},
   "source": [
    "### 2.2.1 Read quezon csv file"
   ]
  },
  {
   "cell_type": "code",
   "execution_count": 26,
   "metadata": {},
   "outputs": [],
   "source": [
    "quezon_df = pd.read_csv(os.path.join('data', 'Quezon City grp1&2.csv'), encoding='iso-8859-1')\n",
    "quezon_df = quezon_df.drop(columns='Average distance of binsÿ')"
   ]
  },
  {
   "cell_type": "code",
   "execution_count": 27,
   "metadata": {},
   "outputs": [
    {
     "data": {
      "text/plain": [
       "array(['amenity/restaurants', 'building/schools', 'amenity/fuel',\n",
       "       'amenity/place of worship', 'shop/convenience'], dtype=object)"
      ]
     },
     "execution_count": 27,
     "metadata": {},
     "output_type": "execute_result"
    }
   ],
   "source": [
    "quezon_df['Predominant land use'].unique()"
   ]
  },
  {
   "cell_type": "code",
   "execution_count": 28,
   "metadata": {},
   "outputs": [],
   "source": [
    "quezon_df['Predominant land use_num']= quezon_df['Predominant land use'].map(land_use_numerization)"
   ]
  },
  {
   "cell_type": "code",
   "execution_count": 29,
   "metadata": {},
   "outputs": [
    {
     "name": "stdout",
     "output_type": "stream",
     "text": [
      "<class 'pandas.core.frame.DataFrame'>\n",
      "RangeIndex: 14 entries, 0 to 13\n",
      "Data columns (total 7 columns):\n",
      " #   Column                    Non-Null Count  Dtype  \n",
      "---  ------                    --------------  -----  \n",
      " 0   Neighbourhoods            14 non-null     object \n",
      " 1   Population                14 non-null     int64  \n",
      " 2   Area (km2)                14 non-null     float64\n",
      " 3   Population Density        14 non-null     float64\n",
      " 4   Predominant land use      14 non-null     object \n",
      " 5   Num. of street segments   14 non-null     int64  \n",
      " 6   Predominant land use_num  14 non-null     int64  \n",
      "dtypes: float64(2), int64(3), object(2)\n",
      "memory usage: 912.0+ bytes\n"
     ]
    }
   ],
   "source": [
    "quezon_df.info()"
   ]
  },
  {
   "cell_type": "code",
   "execution_count": 30,
   "metadata": {},
   "outputs": [
    {
     "data": {
      "text/html": [
       "<div>\n",
       "<style scoped>\n",
       "    .dataframe tbody tr th:only-of-type {\n",
       "        vertical-align: middle;\n",
       "    }\n",
       "\n",
       "    .dataframe tbody tr th {\n",
       "        vertical-align: top;\n",
       "    }\n",
       "\n",
       "    .dataframe thead th {\n",
       "        text-align: right;\n",
       "    }\n",
       "</style>\n",
       "<table border=\"1\" class=\"dataframe\">\n",
       "  <thead>\n",
       "    <tr style=\"text-align: right;\">\n",
       "      <th></th>\n",
       "      <th>Neighbourhoods</th>\n",
       "      <th>Population</th>\n",
       "      <th>Area (km2)</th>\n",
       "      <th>Population Density</th>\n",
       "      <th>Predominant land use</th>\n",
       "      <th>Num. of street segments</th>\n",
       "      <th>Predominant land use_num</th>\n",
       "    </tr>\n",
       "  </thead>\n",
       "  <tbody>\n",
       "    <tr>\n",
       "      <th>0</th>\n",
       "      <td>Don Manuelÿ</td>\n",
       "      <td>3753</td>\n",
       "      <td>0.238</td>\n",
       "      <td>157.689</td>\n",
       "      <td>amenity/restaurants</td>\n",
       "      <td>33</td>\n",
       "      <td>1</td>\n",
       "    </tr>\n",
       "    <tr>\n",
       "      <th>1</th>\n",
       "      <td>Dona Josefa</td>\n",
       "      <td>2909</td>\n",
       "      <td>0.282</td>\n",
       "      <td>103.150</td>\n",
       "      <td>amenity/restaurants</td>\n",
       "      <td>46</td>\n",
       "      <td>1</td>\n",
       "    </tr>\n",
       "    <tr>\n",
       "      <th>2</th>\n",
       "      <td>Dona Aurora</td>\n",
       "      <td>5636</td>\n",
       "      <td>0.128</td>\n",
       "      <td>440.000</td>\n",
       "      <td>building/schools</td>\n",
       "      <td>37</td>\n",
       "      <td>2</td>\n",
       "    </tr>\n",
       "    <tr>\n",
       "      <th>3</th>\n",
       "      <td>Dona Imelda</td>\n",
       "      <td>16915</td>\n",
       "      <td>0.929</td>\n",
       "      <td>182.077</td>\n",
       "      <td>amenity/restaurants</td>\n",
       "      <td>138</td>\n",
       "      <td>1</td>\n",
       "    </tr>\n",
       "    <tr>\n",
       "      <th>4</th>\n",
       "      <td>San Isidroÿ</td>\n",
       "      <td>8578</td>\n",
       "      <td>0.132</td>\n",
       "      <td>649.000</td>\n",
       "      <td>building/schools</td>\n",
       "      <td>173</td>\n",
       "      <td>2</td>\n",
       "    </tr>\n",
       "  </tbody>\n",
       "</table>\n",
       "</div>"
      ],
      "text/plain": [
       "  Neighbourhoods  Population  Area (km2)  Population Density  \\\n",
       "0    Don Manuelÿ        3753       0.238             157.689   \n",
       "1    Dona Josefa        2909       0.282             103.150   \n",
       "2    Dona Aurora        5636       0.128             440.000   \n",
       "3    Dona Imelda       16915       0.929             182.077   \n",
       "4    San Isidroÿ        8578       0.132             649.000   \n",
       "\n",
       "  Predominant land use  Num. of street segments  Predominant land use_num  \n",
       "0  amenity/restaurants                       33                         1  \n",
       "1  amenity/restaurants                       46                         1  \n",
       "2     building/schools                       37                         2  \n",
       "3  amenity/restaurants                      138                         1  \n",
       "4     building/schools                      173                         2  "
      ]
     },
     "execution_count": 30,
     "metadata": {},
     "output_type": "execute_result"
    }
   ],
   "source": [
    "quezon_df.head()"
   ]
  },
  {
   "cell_type": "code",
   "execution_count": 31,
   "metadata": {},
   "outputs": [],
   "source": [
    "X_quezon = quezon_df.drop(columns=['Neighbourhoods', 'Predominant land use'])"
   ]
  },
  {
   "cell_type": "code",
   "execution_count": 32,
   "metadata": {},
   "outputs": [
    {
     "data": {
      "text/html": [
       "<div>\n",
       "<style scoped>\n",
       "    .dataframe tbody tr th:only-of-type {\n",
       "        vertical-align: middle;\n",
       "    }\n",
       "\n",
       "    .dataframe tbody tr th {\n",
       "        vertical-align: top;\n",
       "    }\n",
       "\n",
       "    .dataframe thead th {\n",
       "        text-align: right;\n",
       "    }\n",
       "</style>\n",
       "<table border=\"1\" class=\"dataframe\">\n",
       "  <thead>\n",
       "    <tr style=\"text-align: right;\">\n",
       "      <th></th>\n",
       "      <th>Population</th>\n",
       "      <th>Area (km2)</th>\n",
       "      <th>Population Density</th>\n",
       "      <th>Num. of street segments</th>\n",
       "      <th>Predominant land use_num</th>\n",
       "    </tr>\n",
       "  </thead>\n",
       "  <tbody>\n",
       "    <tr>\n",
       "      <th>0</th>\n",
       "      <td>3753</td>\n",
       "      <td>0.238</td>\n",
       "      <td>157.689</td>\n",
       "      <td>33</td>\n",
       "      <td>1</td>\n",
       "    </tr>\n",
       "    <tr>\n",
       "      <th>1</th>\n",
       "      <td>2909</td>\n",
       "      <td>0.282</td>\n",
       "      <td>103.150</td>\n",
       "      <td>46</td>\n",
       "      <td>1</td>\n",
       "    </tr>\n",
       "    <tr>\n",
       "      <th>2</th>\n",
       "      <td>5636</td>\n",
       "      <td>0.128</td>\n",
       "      <td>440.000</td>\n",
       "      <td>37</td>\n",
       "      <td>2</td>\n",
       "    </tr>\n",
       "    <tr>\n",
       "      <th>3</th>\n",
       "      <td>16915</td>\n",
       "      <td>0.929</td>\n",
       "      <td>182.077</td>\n",
       "      <td>138</td>\n",
       "      <td>1</td>\n",
       "    </tr>\n",
       "    <tr>\n",
       "      <th>4</th>\n",
       "      <td>8578</td>\n",
       "      <td>0.132</td>\n",
       "      <td>649.000</td>\n",
       "      <td>173</td>\n",
       "      <td>2</td>\n",
       "    </tr>\n",
       "    <tr>\n",
       "      <th>5</th>\n",
       "      <td>10278</td>\n",
       "      <td>0.193</td>\n",
       "      <td>532.500</td>\n",
       "      <td>299</td>\n",
       "      <td>1</td>\n",
       "    </tr>\n",
       "    <tr>\n",
       "      <th>6</th>\n",
       "      <td>63129</td>\n",
       "      <td>0.925</td>\n",
       "      <td>682.400</td>\n",
       "      <td>152</td>\n",
       "      <td>2</td>\n",
       "    </tr>\n",
       "    <tr>\n",
       "      <th>7</th>\n",
       "      <td>53151</td>\n",
       "      <td>3.120</td>\n",
       "      <td>17035.000</td>\n",
       "      <td>430</td>\n",
       "      <td>1</td>\n",
       "    </tr>\n",
       "    <tr>\n",
       "      <th>8</th>\n",
       "      <td>41154</td>\n",
       "      <td>2.010</td>\n",
       "      <td>20474.000</td>\n",
       "      <td>200</td>\n",
       "      <td>8</td>\n",
       "    </tr>\n",
       "    <tr>\n",
       "      <th>9</th>\n",
       "      <td>22764</td>\n",
       "      <td>4.240</td>\n",
       "      <td>5368.860</td>\n",
       "      <td>427</td>\n",
       "      <td>1</td>\n",
       "    </tr>\n",
       "    <tr>\n",
       "      <th>10</th>\n",
       "      <td>35135</td>\n",
       "      <td>27.500</td>\n",
       "      <td>1278.290</td>\n",
       "      <td>325</td>\n",
       "      <td>1</td>\n",
       "    </tr>\n",
       "    <tr>\n",
       "      <th>11</th>\n",
       "      <td>54576</td>\n",
       "      <td>2.460</td>\n",
       "      <td>22185.000</td>\n",
       "      <td>415</td>\n",
       "      <td>4</td>\n",
       "    </tr>\n",
       "    <tr>\n",
       "      <th>12</th>\n",
       "      <td>46553</td>\n",
       "      <td>1.650</td>\n",
       "      <td>28214.000</td>\n",
       "      <td>309</td>\n",
       "      <td>4</td>\n",
       "    </tr>\n",
       "    <tr>\n",
       "      <th>13</th>\n",
       "      <td>25577</td>\n",
       "      <td>0.642</td>\n",
       "      <td>39839.000</td>\n",
       "      <td>106</td>\n",
       "      <td>6</td>\n",
       "    </tr>\n",
       "  </tbody>\n",
       "</table>\n",
       "</div>"
      ],
      "text/plain": [
       "    Population  Area (km2)  Population Density  Num. of street segments  \\\n",
       "0         3753       0.238             157.689                       33   \n",
       "1         2909       0.282             103.150                       46   \n",
       "2         5636       0.128             440.000                       37   \n",
       "3        16915       0.929             182.077                      138   \n",
       "4         8578       0.132             649.000                      173   \n",
       "5        10278       0.193             532.500                      299   \n",
       "6        63129       0.925             682.400                      152   \n",
       "7        53151       3.120           17035.000                      430   \n",
       "8        41154       2.010           20474.000                      200   \n",
       "9        22764       4.240            5368.860                      427   \n",
       "10       35135      27.500            1278.290                      325   \n",
       "11       54576       2.460           22185.000                      415   \n",
       "12       46553       1.650           28214.000                      309   \n",
       "13       25577       0.642           39839.000                      106   \n",
       "\n",
       "    Predominant land use_num  \n",
       "0                          1  \n",
       "1                          1  \n",
       "2                          2  \n",
       "3                          1  \n",
       "4                          2  \n",
       "5                          1  \n",
       "6                          2  \n",
       "7                          1  \n",
       "8                          8  \n",
       "9                          1  \n",
       "10                         1  \n",
       "11                         4  \n",
       "12                         4  \n",
       "13                         6  "
      ]
     },
     "execution_count": 32,
     "metadata": {},
     "output_type": "execute_result"
    }
   ],
   "source": [
    "X_quezon"
   ]
  },
  {
   "cell_type": "markdown",
   "metadata": {},
   "source": [
    "### 2.2.2 SVM results"
   ]
  },
  {
   "cell_type": "code",
   "execution_count": 33,
   "metadata": {},
   "outputs": [],
   "source": [
    "y_pred= svm_model_all.predict(X_quezon)"
   ]
  },
  {
   "cell_type": "code",
   "execution_count": 34,
   "metadata": {},
   "outputs": [
    {
     "name": "stdout",
     "output_type": "stream",
     "text": [
      "Don Manuelÿ --> 187.89484217113284\n",
      "Dona Josefa --> 187.89449205710036\n",
      "Dona Aurora --> 187.89563007972052\n",
      "Dona Imelda --> 187.89988270680647\n",
      "San Isidroÿ --> 187.89681388267488\n",
      "Santo Nino --> 187.89746080345864\n",
      "Tatalon --> 187.91245624218482\n",
      "Fairview --> 187.91161912958665\n",
      "North Fairview --> 187.90882565364691\n",
      "Greater Lagro --> 187.90238936496723\n",
      "Pasong Putik Proper --> 187.90589449952435\n",
      "Kaligayahan --> 187.9121264750285\n",
      "Santa Monica --> 187.91039228463302\n",
      "Santa Lucia --> 187.90429826586572\n"
     ]
    }
   ],
   "source": [
    "for n,o in zip(quezon_df['Neighbourhoods'],y_pred):\n",
    "    print('{} --> {}'.format(n,o))"
   ]
  },
  {
   "cell_type": "markdown",
   "metadata": {},
   "source": [
    "### 2.2.3 RF results"
   ]
  },
  {
   "cell_type": "code",
   "execution_count": 35,
   "metadata": {},
   "outputs": [],
   "source": [
    "y_pred= rf_model_all.predict(X_quezon)"
   ]
  },
  {
   "cell_type": "code",
   "execution_count": 36,
   "metadata": {},
   "outputs": [
    {
     "name": "stdout",
     "output_type": "stream",
     "text": [
      "Don Manuelÿ --> 174.56\n",
      "Dona Josefa --> 174.56\n",
      "Dona Aurora --> 156.54\n",
      "Dona Imelda --> 193.64\n",
      "San Isidroÿ --> 156.33\n",
      "Santo Nino --> 181.43\n",
      "Tatalon --> 231.68\n",
      "Fairview --> 422.0\n",
      "North Fairview --> 517.33\n",
      "Greater Lagro --> 180.88\n",
      "Pasong Putik Proper --> 155.77\n",
      "Kaligayahan --> 602.41\n",
      "Santa Monica --> 576.29\n",
      "Santa Lucia --> 509.68\n"
     ]
    }
   ],
   "source": [
    "for n,o in zip(quezon_df['Neighbourhoods'],y_pred):\n",
    "    print('{} --> {}'.format(n,o))"
   ]
  },
  {
   "cell_type": "markdown",
   "metadata": {},
   "source": [
    "## 2.3 Indian cities"
   ]
  },
  {
   "cell_type": "markdown",
   "metadata": {},
   "source": [
    "### 2.3.1 Read Indian cities csv file"
   ]
  },
  {
   "cell_type": "code",
   "execution_count": 37,
   "metadata": {},
   "outputs": [],
   "source": [
    "india_df = pd.read_csv(os.path.join('data', 'India grp1&2.csv'), encoding='iso-8859-1')\n",
    "india_df = india_df.drop(columns='Average distance of binsÿ')"
   ]
  },
  {
   "cell_type": "code",
   "execution_count": 38,
   "metadata": {},
   "outputs": [
    {
     "data": {
      "text/plain": [
       "array(['amenity/hospitals', nan, 'leisure/parks',\n",
       "       'amenity/place of worship'], dtype=object)"
      ]
     },
     "execution_count": 38,
     "metadata": {},
     "output_type": "execute_result"
    }
   ],
   "source": [
    "india_df['Predominant land use'].unique()"
   ]
  },
  {
   "cell_type": "code",
   "execution_count": 39,
   "metadata": {},
   "outputs": [],
   "source": [
    "india_df['Predominant land use_num']= india_df['Predominant land use'].map(land_use_numerization)"
   ]
  },
  {
   "cell_type": "code",
   "execution_count": 40,
   "metadata": {},
   "outputs": [
    {
     "name": "stdout",
     "output_type": "stream",
     "text": [
      "<class 'pandas.core.frame.DataFrame'>\n",
      "RangeIndex: 8 entries, 0 to 7\n",
      "Data columns (total 7 columns):\n",
      " #   Column                    Non-Null Count  Dtype  \n",
      "---  ------                    --------------  -----  \n",
      " 0   Neighbourhoods            8 non-null      object \n",
      " 1   Population                8 non-null      int64  \n",
      " 2   Area (km2)                8 non-null      float64\n",
      " 3   Population Density        8 non-null      int64  \n",
      " 4   Predominant land use      7 non-null      object \n",
      " 5   Num. of street segments   8 non-null      int64  \n",
      " 6   Predominant land use_num  7 non-null      float64\n",
      "dtypes: float64(2), int64(3), object(2)\n",
      "memory usage: 576.0+ bytes\n"
     ]
    }
   ],
   "source": [
    "india_df.info()"
   ]
  },
  {
   "cell_type": "code",
   "execution_count": 41,
   "metadata": {},
   "outputs": [],
   "source": [
    "india_df= india_df.dropna()"
   ]
  },
  {
   "cell_type": "code",
   "execution_count": 42,
   "metadata": {},
   "outputs": [],
   "source": [
    "X_india = india_df.drop(columns=['Neighbourhoods', 'Predominant land use'])"
   ]
  },
  {
   "cell_type": "code",
   "execution_count": 43,
   "metadata": {},
   "outputs": [
    {
     "data": {
      "text/html": [
       "<div>\n",
       "<style scoped>\n",
       "    .dataframe tbody tr th:only-of-type {\n",
       "        vertical-align: middle;\n",
       "    }\n",
       "\n",
       "    .dataframe tbody tr th {\n",
       "        vertical-align: top;\n",
       "    }\n",
       "\n",
       "    .dataframe thead th {\n",
       "        text-align: right;\n",
       "    }\n",
       "</style>\n",
       "<table border=\"1\" class=\"dataframe\">\n",
       "  <thead>\n",
       "    <tr style=\"text-align: right;\">\n",
       "      <th></th>\n",
       "      <th>Population</th>\n",
       "      <th>Area (km2)</th>\n",
       "      <th>Population Density</th>\n",
       "      <th>Num. of street segments</th>\n",
       "      <th>Predominant land use_num</th>\n",
       "    </tr>\n",
       "  </thead>\n",
       "  <tbody>\n",
       "    <tr>\n",
       "      <th>0</th>\n",
       "      <td>190619</td>\n",
       "      <td>11.0</td>\n",
       "      <td>17329</td>\n",
       "      <td>134</td>\n",
       "      <td>3.0</td>\n",
       "    </tr>\n",
       "    <tr>\n",
       "      <th>2</th>\n",
       "      <td>1618879</td>\n",
       "      <td>159.0</td>\n",
       "      <td>10182</td>\n",
       "      <td>5145</td>\n",
       "      <td>5.0</td>\n",
       "    </tr>\n",
       "    <tr>\n",
       "      <th>3</th>\n",
       "      <td>298432</td>\n",
       "      <td>2230.0</td>\n",
       "      <td>134</td>\n",
       "      <td>156</td>\n",
       "      <td>4.0</td>\n",
       "    </tr>\n",
       "    <tr>\n",
       "      <th>4</th>\n",
       "      <td>1391753</td>\n",
       "      <td>2140.0</td>\n",
       "      <td>650</td>\n",
       "      <td>3760</td>\n",
       "      <td>5.0</td>\n",
       "    </tr>\n",
       "    <tr>\n",
       "      <th>5</th>\n",
       "      <td>7045313</td>\n",
       "      <td>6968.0</td>\n",
       "      <td>1011</td>\n",
       "      <td>17275</td>\n",
       "      <td>3.0</td>\n",
       "    </tr>\n",
       "    <tr>\n",
       "      <th>6</th>\n",
       "      <td>6081322</td>\n",
       "      <td>4549.0</td>\n",
       "      <td>1336</td>\n",
       "      <td>4472</td>\n",
       "      <td>3.0</td>\n",
       "    </tr>\n",
       "    <tr>\n",
       "      <th>7</th>\n",
       "      <td>1047635</td>\n",
       "      <td>6607.0</td>\n",
       "      <td>159</td>\n",
       "      <td>1060</td>\n",
       "      <td>3.0</td>\n",
       "    </tr>\n",
       "  </tbody>\n",
       "</table>\n",
       "</div>"
      ],
      "text/plain": [
       "   Population  Area (km2)  Population Density  Num. of street segments  \\\n",
       "0      190619        11.0               17329                      134   \n",
       "2     1618879       159.0               10182                     5145   \n",
       "3      298432      2230.0                 134                      156   \n",
       "4     1391753      2140.0                 650                     3760   \n",
       "5     7045313      6968.0                1011                    17275   \n",
       "6     6081322      4549.0                1336                     4472   \n",
       "7     1047635      6607.0                 159                     1060   \n",
       "\n",
       "   Predominant land use_num  \n",
       "0                       3.0  \n",
       "2                       5.0  \n",
       "3                       4.0  \n",
       "4                       5.0  \n",
       "5                       3.0  \n",
       "6                       3.0  \n",
       "7                       3.0  "
      ]
     },
     "execution_count": 43,
     "metadata": {},
     "output_type": "execute_result"
    }
   ],
   "source": [
    "X_india"
   ]
  },
  {
   "cell_type": "markdown",
   "metadata": {},
   "source": [
    "### 2.3.2 SVM results"
   ]
  },
  {
   "cell_type": "code",
   "execution_count": 44,
   "metadata": {},
   "outputs": [],
   "source": [
    "y_pred= svm_model_all.predict(X_india)"
   ]
  },
  {
   "cell_type": "code",
   "execution_count": 45,
   "metadata": {},
   "outputs": [
    {
     "name": "stdout",
     "output_type": "stream",
     "text": [
      "Barnala --> 187.90553122047598\n",
      "Ludhiana --> 185.16910302344823\n",
      "Moga --> 187.8479351234792\n",
      "Gandhinagar --> 185.64775397339423\n",
      "Ahmedabad --> 184.8857553544863\n",
      "Surat --> 184.25939667014032\n",
      "Jamnagar --> 186.47805562883042\n"
     ]
    }
   ],
   "source": [
    "for n,o in zip(india_df['Neighbourhoods'],y_pred):\n",
    "    print('{} --> {}'.format(n,o))"
   ]
  },
  {
   "cell_type": "markdown",
   "metadata": {},
   "source": [
    "### 2.3.3 RF results"
   ]
  },
  {
   "cell_type": "code",
   "execution_count": 46,
   "metadata": {},
   "outputs": [],
   "source": [
    "y_pred= rf_model_all.predict(X_india)"
   ]
  },
  {
   "cell_type": "code",
   "execution_count": 47,
   "metadata": {},
   "outputs": [
    {
     "name": "stdout",
     "output_type": "stream",
     "text": [
      "Barnala --> 1370.55\n",
      "Ludhiana --> 1075.85\n",
      "Moga --> 907.82\n",
      "Gandhinagar --> 855.24\n",
      "Ahmedabad --> 500.46\n",
      "Surat --> 807.5\n",
      "Jamnagar --> 738.86\n"
     ]
    }
   ],
   "source": [
    "for n,o in zip(india_df['Neighbourhoods'],y_pred):\n",
    "    print('{} --> {}'.format(n,o))"
   ]
  },
  {
   "cell_type": "code",
   "execution_count": 48,
   "metadata": {},
   "outputs": [
    {
     "name": "stdout",
     "output_type": "stream",
     "text": [
      "That's all folks\n"
     ]
    }
   ],
   "source": [
    "print(\"That's all folks\")"
   ]
  }
 ],
 "metadata": {
  "kernelspec": {
   "display_name": "Python 3",
   "language": "python",
   "name": "python3"
  },
  "language_info": {
   "codemirror_mode": {
    "name": "ipython",
    "version": 3
   },
   "file_extension": ".py",
   "mimetype": "text/x-python",
   "name": "python",
   "nbconvert_exporter": "python",
   "pygments_lexer": "ipython3",
   "version": "3.6.5"
  }
 },
 "nbformat": 4,
 "nbformat_minor": 2
}
